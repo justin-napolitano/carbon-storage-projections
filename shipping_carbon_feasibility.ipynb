{
 "cells": [
  {
   "cell_type": "markdown",
   "metadata": {},
   "source": [
    "# Feasibility of Shipping Carbon Across the Atlantic\n",
    "\n",
    "## Revision\n",
    "\n",
    "An earlier version of this report had reported values that were erroneously elevated by a decimal error in the meters to km conversion of distances between ports.  I apologize for unintentionally publishing misleading information.\n",
    "\n",
    "Situations like this one, are why I always publish with code.  Transparency is the key to rigor.  \n",
    "\n",
    "\n",
    "## Introduction\n",
    "\n",
    "Yesterday I published a [Monte Carlo Simulation of shipping CO2 across the atlantic from Europe to the United States](https://blog.jnapolitano.io/carbon-shipping-projections/).  I stated wrongly that the industry could be a 270 billion dollar annual industry. Upon reflection, I realized that this number seemed too high. In fact, that would equate to nearly 1 billion dollars in economic activity per day. \n",
    "\n",
    "In this report, I rectify those mistakes.  \n",
    "\n",
    "\n",
    "\n",
    "## Methodology\n",
    "\n",
    "Please review the my [previous post](https://blog.jnapolitano.io/carbon-shipping-projections/) which details design of my model.  \n",
    "\n",
    "The major difference in this report is the sampling of the mean price per voyage.\n",
    "\n",
    "The conversion error has been corrected."
   ]
  },
  {
   "cell_type": "markdown",
   "metadata": {},
   "source": [
    "## Findings\n",
    "\n",
    "I posted the initial article without reviewing the mean shipping cost per voyage.  I simply trusted the values returned by my algorithm.  Upon reflection, I knew that something was mistaken.  In review, I found that I had converted the distance in meters to centimeters by mistake.  I had in fact elevated prices by a signficant factor that was unreasonable.   \n",
    "\n",
    "\n",
    "### Distance of Transport\n",
    "\n",
    "The standard deviation in mean price per voyage was found to be less than 0.  This suggests that the distance of travel within Europe is marginal.  The major obstacle is crossing the Atlantic to access the Gulf of Mexico.  It is possible that an import/export port located in the Chesapeake, New England, Willmington, or Savannah could reduce the cost of navigating through the Caribbean to access Gulf based ports.  \n",
    "\n",
    "This would present a secondary problem piping the co2 to the interior of the Country to access the spent wells located in the Rust Belt. \n",
    "\n",
    "### Price of Transport.\n",
    "\n",
    "The price of transport is fixed at $12.00 USD per 100 km per tonne as suggested by this [source](https://ieaghg.org/docs/General_Docs/Reports/PH4-30%20Ship%20Transport.pdf).  A rough estimate for the total cost per tonne from London to Houston is about USD $936.00. For reference the cost to transport standard freight from China to the United States ranges from $5,000 to $8,000 USD in total per tonne; or $5.00 to $8.00 USD per Kilo in total.     \n",
    "\n",
    "### Industrial Applications \n",
    "\n",
    "Another study must be completed to calculate value of supercritical CO2 to industrial applications in order to attempt to justify shipping CO2 such large distances.  Simply, shipping such large quantities of CO2 to simply store it is most likely unreasonable, however, at only about $316,665 USD average cost per voyage it is a reasonable figure if proper incentives are in place.  \n",
    "\n",
    "### Carbon Storage\n",
    "\n",
    "Based on this model, it is somewhat reasonable to transport CO2, especially if the US incentivises companies that do so.  Nonetheless, at $50-$60 carbon tax credits per tonne captured (verify this data), it would be unfeasible to account for the high cost of shipping across the Atlantic under current programs.\n",
    "\n",
    "## Limitations of the Model\n",
    "\n",
    "### Accounting for the Return Trip to Port\n",
    " \n",
    "It is important to note that I did not account for the differential costs for the return trip to a european port.  Though, the cost of shipping per ton was fixed at 12.00 USD, doubling distance of travel may double pricing. That said, it would be unlikely for ships to return to port empty. I would expect tankers to be refilled with LNG for return.  Nonetheless, this is a slight methodological that should be improved upon.  \n",
    "\n",
    "### Cost to Transport\n",
    "\n",
    "The cost to transport per 100 km is fixed at 12.00 USD as suggested by this [source](https://ieaghg.org/docs/General_Docs/Reports/PH4-30%20Ship%20Transport.pdf).  It accounts for the cost of liquification, shipping costs, and port fees.  The source however, was published in 2004.  The costs may have been reduced by technological advance and demand for super critical CO2.\n",
    "\n",
    "### Volumes of Transport\n",
    "\n",
    "I simply converted the volumes of standard LNG ships to liquifed CO2.  There may be data available for tankers dedicated to carbon, but I was not aware of any when performing this analysis.  Tankers may also not completely dedicate their capacity to CO2.  Armed with a proper probability distribution, I could improve the model by randomly choosing volumes based on historical data.  \n",
    "\n",
    "## Conclusion\n",
    "\n",
    "It is unlikely that CO2 will be shipped to the United States simply for storage unless companies are incentivized to do so. A transatlantic trade may develop, but I would assume in order to meet demands for the industrial applications of super critical CO2."
   ]
  },
  {
   "cell_type": "markdown",
   "metadata": {},
   "source": [
    "## Mean Voyage Data Analysis"
   ]
  },
  {
   "cell_type": "code",
   "execution_count": 23,
   "metadata": {},
   "outputs": [
    {
     "data": {
      "text/html": [
       "<div>\n",
       "<style scoped>\n",
       "    .dataframe tbody tr th:only-of-type {\n",
       "        vertical-align: middle;\n",
       "    }\n",
       "\n",
       "    .dataframe tbody tr th {\n",
       "        vertical-align: top;\n",
       "    }\n",
       "\n",
       "    .dataframe thead th {\n",
       "        text-align: right;\n",
       "    }\n",
       "</style>\n",
       "<table border=\"1\" class=\"dataframe\">\n",
       "  <thead>\n",
       "    <tr style=\"text-align: right;\">\n",
       "      <th></th>\n",
       "      <th>Voyage Cost USD</th>\n",
       "    </tr>\n",
       "  </thead>\n",
       "  <tbody>\n",
       "    <tr>\n",
       "      <th>count</th>\n",
       "      <td>5.000000e+02</td>\n",
       "    </tr>\n",
       "    <tr>\n",
       "      <th>mean</th>\n",
       "      <td>3.166652e+05</td>\n",
       "    </tr>\n",
       "    <tr>\n",
       "      <th>std</th>\n",
       "      <td>1.165319e-10</td>\n",
       "    </tr>\n",
       "    <tr>\n",
       "      <th>min</th>\n",
       "      <td>3.166652e+05</td>\n",
       "    </tr>\n",
       "    <tr>\n",
       "      <th>25%</th>\n",
       "      <td>3.166652e+05</td>\n",
       "    </tr>\n",
       "    <tr>\n",
       "      <th>50%</th>\n",
       "      <td>3.166652e+05</td>\n",
       "    </tr>\n",
       "    <tr>\n",
       "      <th>75%</th>\n",
       "      <td>3.166652e+05</td>\n",
       "    </tr>\n",
       "    <tr>\n",
       "      <th>max</th>\n",
       "      <td>3.166652e+05</td>\n",
       "    </tr>\n",
       "  </tbody>\n",
       "</table>\n",
       "</div>"
      ],
      "text/plain": [
       "       Voyage Cost USD\n",
       "count     5.000000e+02\n",
       "mean      3.166652e+05\n",
       "std       1.165319e-10\n",
       "min       3.166652e+05\n",
       "25%       3.166652e+05\n",
       "50%       3.166652e+05\n",
       "75%       3.166652e+05\n",
       "max       3.166652e+05"
      ]
     },
     "execution_count": 23,
     "metadata": {},
     "output_type": "execute_result"
    }
   ],
   "source": [
    "mean_price_per_cycle_df.describe()"
   ]
  },
  {
   "cell_type": "markdown",
   "metadata": {},
   "source": [
    "### Calculating the Confidence Interval For Mean Voyage\n",
    "\n",
    "The data is nearly normal.  I could test for normality, but that would be beyond the scope of this analysis.  Also, by design the Monte Carlo model should produce a normal distribution with sufficient samples.  "
   ]
  },
  {
   "cell_type": "code",
   "execution_count": 24,
   "metadata": {},
   "outputs": [
    {
     "data": {
      "text/plain": [
       "(316665.2057796428, 316665.2057796428)"
      ]
     },
     "execution_count": 24,
     "metadata": {},
     "output_type": "execute_result"
    }
   ],
   "source": [
    "\n",
    "st.norm.interval(alpha=0.90, loc=np.mean(mean_price_per_cycle_df['Voyage Cost USD']), scale=st.sem(mean_price_per_cycle_df['Voyage Cost USD']))"
   ]
  },
  {
   "cell_type": "markdown",
   "metadata": {},
   "source": [
    "It is safe to assume that 90 percent of the time we would see an annual cost 316,665 dollars USD with the assumptions of the model taken into account.  As the price per 100 km is fixed, the standard deviations is minimal.  The distances as well to port seem to be fairly consistent.  The cost of transport through Europe is minimal."
   ]
  },
  {
   "cell_type": "markdown",
   "metadata": {},
   "source": [
    "### Histogram of Mean Voyage Price Samples\n",
    "\n",
    "The price does not deviate.  It is so concentrated in fact, that I worry that the model is not correctly randomizing European ports of origin.  If the model is operating correctly, then it is apparent that the Atlantic is the only barrier to trade.  Partners such as the UK, France, Portugal, The Netherlands, Spain, or any other nation relatively close to the United States are equally unlikely.  "
   ]
  },
  {
   "cell_type": "code",
   "execution_count": 25,
   "metadata": {},
   "outputs": [
    {
     "data": {
      "image/png": "[encoded data removed]",
      "text/plain": [
       "<Figure size 432x288 with 1 Axes>"
      ]
     },
     "metadata": {
      "needs_background": "light"
     },
     "output_type": "display_data"
    }
   ],
   "source": [
    "mean_price_per_cycle_df.plot.hist(grid=True, bins=20, rwidth=0.9,\n",
    "                   color='#607c8e')\n",
    "plt.title('Mean Price Distribution Per Voyage')\n",
    "plt.xlabel('Mean Voyage Price USD')\n",
    "plt.ylabel('Frequency')\n",
    "plt.grid(axis='y', alpha=0.75)"
   ]
  },
  {
   "cell_type": "markdown",
   "metadata": {},
   "source": [
    "## Annual Data Analysis\n",
    "\n",
    "This is a reprint of the findings from [my previous report](https://blog.jnapolitano.io/carbon-shipping-projections/)"
   ]
  },
  {
   "cell_type": "code",
   "execution_count": 26,
   "metadata": {},
   "outputs": [
    {
     "data": {
      "text/html": [
       "<div>\n",
       "<style scoped>\n",
       "    .dataframe tbody tr th:only-of-type {\n",
       "        vertical-align: middle;\n",
       "    }\n",
       "\n",
       "    .dataframe tbody tr th {\n",
       "        vertical-align: top;\n",
       "    }\n",
       "\n",
       "    .dataframe thead th {\n",
       "        text-align: right;\n",
       "    }\n",
       "</style>\n",
       "<table border=\"1\" class=\"dataframe\">\n",
       "  <thead>\n",
       "    <tr style=\"text-align: right;\">\n",
       "      <th></th>\n",
       "      <th>cost_in_usd</th>\n",
       "    </tr>\n",
       "  </thead>\n",
       "  <tbody>\n",
       "    <tr>\n",
       "      <th>count</th>\n",
       "      <td>5.000000e+02</td>\n",
       "    </tr>\n",
       "    <tr>\n",
       "      <th>mean</th>\n",
       "      <td>5.744043e+07</td>\n",
       "    </tr>\n",
       "    <tr>\n",
       "      <th>std</th>\n",
       "      <td>1.160779e+06</td>\n",
       "    </tr>\n",
       "    <tr>\n",
       "      <th>min</th>\n",
       "      <td>5.408210e+07</td>\n",
       "    </tr>\n",
       "    <tr>\n",
       "      <th>25%</th>\n",
       "      <td>5.660839e+07</td>\n",
       "    </tr>\n",
       "    <tr>\n",
       "      <th>50%</th>\n",
       "      <td>5.737843e+07</td>\n",
       "    </tr>\n",
       "    <tr>\n",
       "      <th>75%</th>\n",
       "      <td>5.819101e+07</td>\n",
       "    </tr>\n",
       "    <tr>\n",
       "      <th>max</th>\n",
       "      <td>6.092949e+07</td>\n",
       "    </tr>\n",
       "  </tbody>\n",
       "</table>\n",
       "</div>"
      ],
      "text/plain": [
       "        cost_in_usd\n",
       "count  5.000000e+02\n",
       "mean   5.744043e+07\n",
       "std    1.160779e+06\n",
       "min    5.408210e+07\n",
       "25%    5.660839e+07\n",
       "50%    5.737843e+07\n",
       "75%    5.819101e+07\n",
       "max    6.092949e+07"
      ]
     },
     "execution_count": 26,
     "metadata": {},
     "output_type": "execute_result"
    }
   ],
   "source": [
    "annual_price_samples_df.describe()"
   ]
  },
  {
   "cell_type": "markdown",
   "metadata": {},
   "source": [
    "## Calculating the Confidence Interval\n",
    "\n",
    "The data is nearly normal.  I could test for normality, but that would be beyond the scope of this analysis.  Also, by design the Monte Carlo model should produce a normal distribution with sufficient samples.  "
   ]
  },
  {
   "cell_type": "code",
   "execution_count": 27,
   "metadata": {},
   "outputs": [
    {
     "data": {
      "text/plain": [
       "(57355047.61667279, 57525821.6547037)"
      ]
     },
     "execution_count": 27,
     "metadata": {},
     "output_type": "execute_result"
    }
   ],
   "source": [
    "\n",
    "st.norm.interval(alpha=0.90, loc=np.mean(annual_price_samples_df['cost_in_usd']), scale=st.sem(annual_price_samples_df['cost_in_usd']))"
   ]
  },
  {
   "cell_type": "markdown",
   "metadata": {},
   "source": [
    "It is safe to assume that 90 percent of the time we would see an annual cost of 57.36 to 57.52 million dollars USD with the assumptions of the model taken into account.  "
   ]
  },
  {
   "cell_type": "markdown",
   "metadata": {},
   "source": [
    "### Monte Carlo Histogram"
   ]
  },
  {
   "cell_type": "code",
   "execution_count": 28,
   "metadata": {},
   "outputs": [
    {
     "data": {
      "image/png": "[encoded data removed]",
      "text/plain": [
       "<Figure size 432x288 with 1 Axes>"
      ]
     },
     "metadata": {
      "needs_background": "light"
     },
     "output_type": "display_data"
    }
   ],
   "source": [
    "annual_price_samples_df.plot.hist(grid=True, bins=20, rwidth=0.9,\n",
    "                   color='#607c8e')\n",
    "plt.title('Annual Price Distribution for Shipping Carbon')\n",
    "plt.xlabel('Annual Price in USD')\n",
    "plt.ylabel('Frequency')\n",
    "plt.grid(axis='y', alpha=0.75)"
   ]
  },
  {
   "cell_type": "markdown",
   "metadata": {},
   "source": [
    "## Data Imports and Manipulation\n",
    "\n",
    "### The Shipping Dataframe\n",
    "\n",
    "The shipping dataframe is the basis of the simulation.  It is used to tabulate total cost and to record the values of variables.\n",
    "\n",
    "#### Capacity Distribution and Number of Ships Calculation"
   ]
  },
  {
   "cell_type": "code",
   "execution_count": 2,
   "metadata": {},
   "outputs": [],
   "source": [
    "# Capacity range\n",
    "# 40,000 m3 71,500 to 210,000\n",
    "\n",
    "#Susanna Dorigoni, Luigi Mazzei, Federico Pontoni, and Antonio Sileo\n",
    "#IEFE – Centre for Research on Energy and Environmental Economics and Policy,\n",
    "#Università Bocconi, Milan, Italy\n",
    "\n",
    "# I'm sure a better report is available but this is a start\n",
    "# cubic meters unit\n",
    "\n",
    "### a rough estimate of global suplly dedicated to co2 shipping\n",
    "\n",
    "# I will probably need a better metric but this is a good start that can be modified later when necessary\n",
    "\n",
    "ships = int(63*.25)\n",
    "ships\n",
    "\n",
    "\n",
    "conversion_factor = 2.21/2.65\n",
    "conversion_factor\n",
    "\n",
    "lower_bound = int(40000 * conversion_factor)\n",
    "upper_bound = int(210000 * conversion_factor)\n",
    "\n",
    "median = 137564 * conversion_factor\n",
    "standard_dev = 6.63 * conversion_factor  #file:///Users/jnapolitano/Downloads/LNG_Shipping_a_Descriptive_Analysis.pdf\n",
    "\n",
    "cap_range = range(lower_bound, upper_bound)\n",
    "\n",
    "cap_distribution = np.random.normal(loc=median , scale=standard_dev, size=ships)\n",
    "\n"
   ]
  },
  {
   "cell_type": "markdown",
   "metadata": {},
   "source": [
    "#### The Shipping Df"
   ]
  },
  {
   "cell_type": "code",
   "execution_count": 3,
   "metadata": {},
   "outputs": [
    {
     "data": {
      "text/html": [
       "<div>\n",
       "<style scoped>\n",
       "    .dataframe tbody tr th:only-of-type {\n",
       "        vertical-align: middle;\n",
       "    }\n",
       "\n",
       "    .dataframe tbody tr th {\n",
       "        vertical-align: top;\n",
       "    }\n",
       "\n",
       "    .dataframe thead th {\n",
       "        text-align: right;\n",
       "    }\n",
       "</style>\n",
       "<table border=\"1\" class=\"dataframe\">\n",
       "  <thead>\n",
       "    <tr style=\"text-align: right;\">\n",
       "      <th></th>\n",
       "      <th>co2_capacity_cubic_meters</th>\n",
       "      <th>days_to_port</th>\n",
       "      <th>europe_port</th>\n",
       "      <th>us_port</th>\n",
       "      <th>distance</th>\n",
       "      <th>price</th>\n",
       "      <th>cost_per_day</th>\n",
       "      <th>co2_capacity_tonnes</th>\n",
       "    </tr>\n",
       "  </thead>\n",
       "  <tbody>\n",
       "    <tr>\n",
       "      <th>0</th>\n",
       "      <td>114720.479228</td>\n",
       "      <td>0</td>\n",
       "      <td></td>\n",
       "      <td></td>\n",
       "      <td></td>\n",
       "      <td>0</td>\n",
       "      <td>0</td>\n",
       "      <td>210.627693</td>\n",
       "    </tr>\n",
       "    <tr>\n",
       "      <th>1</th>\n",
       "      <td>114722.019258</td>\n",
       "      <td>0</td>\n",
       "      <td></td>\n",
       "      <td></td>\n",
       "      <td></td>\n",
       "      <td>0</td>\n",
       "      <td>0</td>\n",
       "      <td>210.630520</td>\n",
       "    </tr>\n",
       "    <tr>\n",
       "      <th>2</th>\n",
       "      <td>114717.260040</td>\n",
       "      <td>0</td>\n",
       "      <td></td>\n",
       "      <td></td>\n",
       "      <td></td>\n",
       "      <td>0</td>\n",
       "      <td>0</td>\n",
       "      <td>210.621782</td>\n",
       "    </tr>\n",
       "    <tr>\n",
       "      <th>3</th>\n",
       "      <td>114715.555903</td>\n",
       "      <td>0</td>\n",
       "      <td></td>\n",
       "      <td></td>\n",
       "      <td></td>\n",
       "      <td>0</td>\n",
       "      <td>0</td>\n",
       "      <td>210.618654</td>\n",
       "    </tr>\n",
       "    <tr>\n",
       "      <th>4</th>\n",
       "      <td>114711.076224</td>\n",
       "      <td>0</td>\n",
       "      <td></td>\n",
       "      <td></td>\n",
       "      <td></td>\n",
       "      <td>0</td>\n",
       "      <td>0</td>\n",
       "      <td>210.610429</td>\n",
       "    </tr>\n",
       "    <tr>\n",
       "      <th>5</th>\n",
       "      <td>114717.940270</td>\n",
       "      <td>0</td>\n",
       "      <td></td>\n",
       "      <td></td>\n",
       "      <td></td>\n",
       "      <td>0</td>\n",
       "      <td>0</td>\n",
       "      <td>210.623031</td>\n",
       "    </tr>\n",
       "    <tr>\n",
       "      <th>6</th>\n",
       "      <td>114721.291722</td>\n",
       "      <td>0</td>\n",
       "      <td></td>\n",
       "      <td></td>\n",
       "      <td></td>\n",
       "      <td>0</td>\n",
       "      <td>0</td>\n",
       "      <td>210.629185</td>\n",
       "    </tr>\n",
       "    <tr>\n",
       "      <th>7</th>\n",
       "      <td>114723.060928</td>\n",
       "      <td>0</td>\n",
       "      <td></td>\n",
       "      <td></td>\n",
       "      <td></td>\n",
       "      <td>0</td>\n",
       "      <td>0</td>\n",
       "      <td>210.632433</td>\n",
       "    </tr>\n",
       "    <tr>\n",
       "      <th>8</th>\n",
       "      <td>114724.416053</td>\n",
       "      <td>0</td>\n",
       "      <td></td>\n",
       "      <td></td>\n",
       "      <td></td>\n",
       "      <td>0</td>\n",
       "      <td>0</td>\n",
       "      <td>210.634921</td>\n",
       "    </tr>\n",
       "    <tr>\n",
       "      <th>9</th>\n",
       "      <td>114730.832971</td>\n",
       "      <td>0</td>\n",
       "      <td></td>\n",
       "      <td></td>\n",
       "      <td></td>\n",
       "      <td>0</td>\n",
       "      <td>0</td>\n",
       "      <td>210.646702</td>\n",
       "    </tr>\n",
       "    <tr>\n",
       "      <th>10</th>\n",
       "      <td>114727.128385</td>\n",
       "      <td>0</td>\n",
       "      <td></td>\n",
       "      <td></td>\n",
       "      <td></td>\n",
       "      <td>0</td>\n",
       "      <td>0</td>\n",
       "      <td>210.639901</td>\n",
       "    </tr>\n",
       "    <tr>\n",
       "      <th>11</th>\n",
       "      <td>114723.001878</td>\n",
       "      <td>0</td>\n",
       "      <td></td>\n",
       "      <td></td>\n",
       "      <td></td>\n",
       "      <td>0</td>\n",
       "      <td>0</td>\n",
       "      <td>210.632325</td>\n",
       "    </tr>\n",
       "    <tr>\n",
       "      <th>12</th>\n",
       "      <td>114715.038614</td>\n",
       "      <td>0</td>\n",
       "      <td></td>\n",
       "      <td></td>\n",
       "      <td></td>\n",
       "      <td>0</td>\n",
       "      <td>0</td>\n",
       "      <td>210.617704</td>\n",
       "    </tr>\n",
       "    <tr>\n",
       "      <th>13</th>\n",
       "      <td>114721.502327</td>\n",
       "      <td>0</td>\n",
       "      <td></td>\n",
       "      <td></td>\n",
       "      <td></td>\n",
       "      <td>0</td>\n",
       "      <td>0</td>\n",
       "      <td>210.629571</td>\n",
       "    </tr>\n",
       "    <tr>\n",
       "      <th>14</th>\n",
       "      <td>114722.089811</td>\n",
       "      <td>0</td>\n",
       "      <td></td>\n",
       "      <td></td>\n",
       "      <td></td>\n",
       "      <td>0</td>\n",
       "      <td>0</td>\n",
       "      <td>210.630650</td>\n",
       "    </tr>\n",
       "  </tbody>\n",
       "</table>\n",
       "</div>"
      ],
      "text/plain": [
       "    co2_capacity_cubic_meters  days_to_port europe_port us_port distance  \\\n",
       "0               114720.479228             0                                \n",
       "1               114722.019258             0                                \n",
       "2               114717.260040             0                                \n",
       "3               114715.555903             0                                \n",
       "4               114711.076224             0                                \n",
       "5               114717.940270             0                                \n",
       "6               114721.291722             0                                \n",
       "7               114723.060928             0                                \n",
       "8               114724.416053             0                                \n",
       "9               114730.832971             0                                \n",
       "10              114727.128385             0                                \n",
       "11              114723.001878             0                                \n",
       "12              114715.038614             0                                \n",
       "13              114721.502327             0                                \n",
       "14              114722.089811             0                                \n",
       "\n",
       "    price  cost_per_day  co2_capacity_tonnes  \n",
       "0       0             0           210.627693  \n",
       "1       0             0           210.630520  \n",
       "2       0             0           210.621782  \n",
       "3       0             0           210.618654  \n",
       "4       0             0           210.610429  \n",
       "5       0             0           210.623031  \n",
       "6       0             0           210.629185  \n",
       "7       0             0           210.632433  \n",
       "8       0             0           210.634921  \n",
       "9       0             0           210.646702  \n",
       "10      0             0           210.639901  \n",
       "11      0             0           210.632325  \n",
       "12      0             0           210.617704  \n",
       "13      0             0           210.629571  \n",
       "14      0             0           210.630650  "
      ]
     },
     "execution_count": 3,
     "metadata": {},
     "output_type": "execute_result"
    }
   ],
   "source": [
    "shipping_df = pd.DataFrame(cap_distribution, columns=['co2_capacity_cubic_meters'])\n",
    "shipping_df['days_to_port'] = 0\n",
    "shipping_df['europe_port'] = ''\n",
    "shipping_df[\"us_port\"] =''\n",
    "shipping_df['distance'] =''\n",
    "shipping_df['price'] = 0\n",
    "shipping_df['cost_per_day'] = 0\n",
    "shipping_df['co2_capacity_tonnes'] = shipping_df['co2_capacity_cubic_meters']/544.66 ## Verify this factor.  It seems to high\n",
    "shipping_df"
   ]
  },
  {
   "cell_type": "markdown",
   "metadata": {},
   "source": [
    "### The European Ports Df"
   ]
  },
  {
   "cell_type": "code",
   "execution_count": 4,
   "metadata": {},
   "outputs": [],
   "source": [
    "\n",
    "gisfilepath = \"/Users/jnapolitano/Projects/data/energy/PORT_2013_SH/Data/PORT_PT_2013.shp\"\n",
    "\n",
    "\n",
    "ports_df = gpd.read_file(gisfilepath)\n",
    "\n",
    "ports_df = ports_df.to_crs(epsg=3857)"
   ]
  },
  {
   "cell_type": "markdown",
   "metadata": {},
   "source": [
    "### Filtered Wells DataFrame"
   ]
  },
  {
   "cell_type": "code",
   "execution_count": 5,
   "metadata": {},
   "outputs": [],
   "source": [
    "## Importing our DataFrames\n",
    "\n",
    "gisfilepath = \"/Users/jnapolitano/Projects/data/energy/filtered-wells.geojson\"\n",
    "\n",
    "\n",
    "filtered_df = gpd.read_file(gisfilepath)\n",
    "\n",
    "filtered_df = filtered_df.to_crs(epsg=3857)\n",
    "\n"
   ]
  },
  {
   "cell_type": "markdown",
   "metadata": {},
   "source": [
    "#### Getting Map Conditions for Us Port Filtering\n"
   ]
  },
  {
   "cell_type": "code",
   "execution_count": 6,
   "metadata": {},
   "outputs": [],
   "source": [
    "map_conditions = filtered_df.TERMID.unique().tolist()"
   ]
  },
  {
   "cell_type": "markdown",
   "metadata": {},
   "source": [
    "### US Ports Dataframes"
   ]
  },
  {
   "cell_type": "code",
   "execution_count": 7,
   "metadata": {},
   "outputs": [],
   "source": [
    "## Importing our DataFrames\n",
    "\n",
    "gisfilepath = \"/Users/jnapolitano/Projects/data/energy/Liquified_Natural_Gas_Import_Exports_and_Terminals.geojson\"\n",
    "\n",
    "\n",
    "terminal_df = gpd.read_file(gisfilepath)\n",
    "\n",
    "terminal_df = terminal_df.to_crs(epsg=3857)\n",
    "\n"
   ]
  },
  {
   "cell_type": "code",
   "execution_count": 8,
   "metadata": {},
   "outputs": [],
   "source": [
    "terminal_df.drop(terminal_df[terminal_df['STATUS'] == 'SUSPENDED'].index, inplace = True)\n",
    "terminal_df.rename(columns={\"NAME\": \"TERMINAL_NAME\"})\n",
    "terminal_df['TERMINAL_GEO'] = terminal_df['geometry'].copy()\n"
   ]
  },
  {
   "cell_type": "code",
   "execution_count": 9,
   "metadata": {},
   "outputs": [],
   "source": [
    "port_terminals_df = terminal_df.query('TERMID in @map_conditions').copy()\n",
    "port_terminals_df['co2_capacity_mmta'] = port_terminals_df['CURRENTCAP'] * conversion_factor\n",
    "port_terminals_df['co2_capacity_metric_tons'] = port_terminals_df['co2_capacity_mmta'] * 1000000\n",
    "port_terminals_df['available'] = True"
   ]
  },
  {
   "cell_type": "markdown",
   "metadata": {},
   "source": [
    "## Random Distribution, Distance and Pricing Functions "
   ]
  },
  {
   "cell_type": "markdown",
   "metadata": {},
   "source": [
    "### Accounting for Random Days at Sea\n",
    "\n",
    "As days at sea is variable I created a range between 20 and 40 days to account for a round trip to every major port in Europe.  "
   ]
  },
  {
   "cell_type": "code",
   "execution_count": 10,
   "metadata": {},
   "outputs": [],
   "source": [
    "\n",
    "def random_day():\n",
    "    lower_bound = 20\n",
    "    upper_bound = 40\n",
    "\n",
    "    median = 30\n",
    "    standard_dev = 2\n",
    "\n",
    "    days_range = range(lower_bound, upper_bound)\n",
    "\n",
    "    days_distribution = np.random.normal(loc=median , scale=standard_dev, size=ships)\n",
    "\n",
    "\n",
    "    days_randomized = np.random.choice(days_distribution, size=1)\n",
    "\n",
    "\n",
    "    return (days_randomized[0].astype(np.int64))\n"
   ]
  },
  {
   "cell_type": "markdown",
   "metadata": {},
   "source": [
    "### Accounting for Random European Ports\n",
    "\n",
    " I randomized the port selection process with the following function.  The data provided by EuroStat did not filter according to type of port.  Nonetheless, the distance recorded should be very similiar to those of actual LNG ports.  A better data set could be substituded directly into the function."
   ]
  },
  {
   "cell_type": "code",
   "execution_count": 11,
   "metadata": {},
   "outputs": [],
   "source": [
    "\n",
    "def random_europe_port():\n",
    "    #select a random number along the index of the ports df.  Return the value of hte geometry at the index.  \n",
    "    #select indices from the dataframe that are valid.  ie capacity has not yet been met.  \n",
    "    ports_randomized = np.random.choice(ports_df.index, size=1)\n",
    "    index_location = ports_randomized[0]\n",
    "    return ports_df.geometry[index_location]\n"
   ]
  },
  {
   "cell_type": "markdown",
   "metadata": {},
   "source": [
    "### Accounting for Random US Ports\n",
    "\n",
    "I was able to filter import/export ports in the United States in to a dataset of about 15.  Like the European dataset, I randomized selection."
   ]
  },
  {
   "cell_type": "code",
   "execution_count": 12,
   "metadata": {},
   "outputs": [],
   "source": [
    "\n",
    "def random_us_port():\n",
    "    #select a random number along the index of the ports df.  Return the value of hte geometry at the index.  \n",
    "\n",
    "    ports_randomized = np.random.choice(port_terminals_df.index, size=1)\n",
    "    index_location = ports_randomized[0]\n",
    "    return port_terminals_df.geometry[index_location]\n"
   ]
  },
  {
   "cell_type": "markdown",
   "metadata": {},
   "source": [
    "### Calculating Distance Between Ports\n",
    "\n",
    "I calculated the shortest distance between ports based on their geographic locations with the shapley.distance function.  It returns distance in meters.  I divide by 1000 to convert into Km.   The algorithm could be improved by using official shipping data to randomize a distribution of distances between ports.  Unfortunately, I do not have that data available to me. "
   ]
  },
  {
   "cell_type": "code",
   "execution_count": 13,
   "metadata": {},
   "outputs": [],
   "source": [
    "\n",
    "def geo_distance(dist1,dist2):\n",
    "    # return distance in km\n",
    "    distance = dist1.distance(dist2)/1000\n",
    "    return(distance)\n",
    "\n",
    "    \n"
   ]
  },
  {
   "cell_type": "markdown",
   "metadata": {},
   "source": [
    "### Calculating Price of Transport\n",
    "\n",
    "\n",
    "The cost of transport accounts for port fees, liquification, and transport.   Unfortunately, my data is from a paper published in 2004.  I would like to find a more recent paper.   I did not convert the value of 2004 USD to 2022 because I am not sure of the validity of the conversion factors available online.  I would need a better source to correctly model the true cost of transport.  \n",
    "\n",
    "[source](https://ieaghg.org/docs/General_Docs/Reports/PH4-30%20Ship%20Transport.pdf)"
   ]
  },
  {
   "cell_type": "code",
   "execution_count": 16,
   "metadata": {},
   "outputs": [],
   "source": [
    "\n",
    "def price_to_transport(distance,tonnes):\n",
    "    price = (distance/100) * 12 * tonnes\n",
    "    return price\n"
   ]
  },
  {
   "cell_type": "markdown",
   "metadata": {},
   "source": [
    "### Calculating Cost Per Day"
   ]
  },
  {
   "cell_type": "code",
   "execution_count": 17,
   "metadata": {},
   "outputs": [],
   "source": [
    "def cost_per_day(price,distance):\n",
    "    return price/distance"
   ]
  },
  {
   "cell_type": "markdown",
   "metadata": {},
   "source": [
    "## Costs Per Annum Algorithm"
   ]
  },
  {
   "cell_type": "markdown",
   "metadata": {},
   "source": [
    "The algorithm I used calculates the daily status of ships transporting CO2 across the Atlantic from a random European port to a random port in the United States.  It will run for 365 iterations or until the total carbon capacity of the US ports is reached.  This value could and probably should be dynamically allocated via a similiar algorithm, but I do not yet have historical probability distributions of carbon imports to determime a valid price allocation function.  \n",
    "\n",
    "When the daily counter reaches zero for a tanker:\n",
    "* The capacity is refilled to full.\n",
    "* A random us port is assigned.\n",
    "* A random European port is assigned.\n",
    "* The distance between ports is calculated.\n",
    "* The cost of transport over that distance is calculated per 100 km.\n",
    "* The total shipping price of that cycle is tabulated.\n",
    "* The total tonnage of that cycle is tabulated.\n",
    "* The mean price per voyage is tabulated\n",
    "\n",
    "\n"
   ]
  },
  {
   "cell_type": "code",
   "execution_count": 18,
   "metadata": {},
   "outputs": [
    {
     "name": "stdout",
     "output_type": "stream",
     "text": [
      "365\n",
      "41072.53151865029\n",
      "62067313.75358563\n",
      "316665.2057796429\n"
     ]
    }
   ],
   "source": [
    "\n",
    "days = 365\n",
    "day_counter = 0 \n",
    "carbon_total_millions_metric_tons = 300000000\n",
    "total_tons_shipped = 0\n",
    "total_price = 0\n",
    "cycle_mean_price_samples = np.zeros(shape=days)\n",
    "\n",
    "#deduction = capacity of empty ships\n",
    "for day in range(days):\n",
    "    if carbon_total_millions_metric_tons >= 0:\n",
    "        # must use apply to account for multiple 0 conditions.  If i simply vectorized the function across the dataframe in a single call i would assign the the same values each day \n",
    "        shipping_df['days_to_port'] = shipping_df['days_to_port'] - 1\n",
    "        shipping_df['us_port'] = shipping_df.apply(lambda x:  random_us_port() if x['days_to_port']<=0 else x['us_port'], axis=1)\n",
    "        shipping_df['europe_port'] = shipping_df.apply(lambda x:  random_europe_port() if x['days_to_port']<=0 else x['europe_port'], axis=1)\n",
    "        shipping_df['distance'] = shipping_df.apply(lambda x:  geo_distance(x['us_port'], x['europe_port']) if x['days_to_port']<=0 else x['distance'], axis=1)\n",
    "        shipping_df['price'] = shipping_df.apply(lambda x:  price_to_transport(x['distance'],x['co2_capacity_tonnes']) if x['days_to_port']<=0 else x['price'], axis=1)\n",
    "        #calculate cost per day for fun...\n",
    "        # query all that are = o.  Summate the capacities deduct the total \n",
    "        tmp_df=shipping_df.loc[shipping_df['days_to_port'] <= 0]\n",
    "        sum_of_capacity = tmp_df['co2_capacity_tonnes'].sum()\n",
    "        sum_of_price = tmp_df['price'].sum()\n",
    "        mean_of_price = tmp_df['price'].mean()\n",
    "        cycle_mean_price_samples[day] = mean_of_price\n",
    "        shipping_df['days_to_port'] = shipping_df['days_to_port'].apply(lambda x: random_day() if x<=0 else x)\n",
    "        total_tons_shipped = total_tons_shipped + sum_of_capacity\n",
    "        total_price = total_price + sum_of_price\n",
    "        carbon_total_millions_metric_tons = carbon_total_millions_metric_tons - sum_of_capacity\n",
    "        #print(carbon_total_millions_metric_tons)\n",
    "        day_counter = day_counter+1\n",
    "    else: \n",
    "        break\n",
    "\n",
    "    \n",
    "    \n",
    "print(day_counter)\n",
    "print(total_tons_shipped)\n",
    "print(total_price)\n",
    "#Drop the nan, ie empty samples\n",
    "cycle_mean_price = cycle_mean_price_samples[np.logical_not(np.isnan(cycle_mean_price_samples))]\n",
    "#Calculate mean price of filling a ship (around a billion according to the data i have if filled to capacity.  Ridiculous.)\n",
    "cycle_mean_price = cycle_mean_price.mean()\n",
    "print(cycle_mean_price)\n"
   ]
  },
  {
   "cell_type": "markdown",
   "metadata": {},
   "source": [
    "## Monte Carlo Simulation with 500 Iterations\n",
    "\n",
    "The annual rate of shipping can be variable according to shifting dynamics. I account for that by modeling the per annum algorithm 500 times.  Modeling would improve as n increases, but for the sake of time I limited the computation to 500 iterations\n",
    "\n",
    "The only difference between this algorithm and the previous one is an extra for loop.  The algorithmic efficiency is surprisingly good as the I was able to vectorize tabulations with lambda functions across the dataframes.  On my laptop, I was able to complete the algorithm in about 16 minutes of run time.\n",
    "\n"
   ]
  },
  {
   "cell_type": "code",
   "execution_count": 19,
   "metadata": {},
   "outputs": [],
   "source": [
    "\n",
    "nsamples = 500\n",
    "price_samples = np.zeros(shape=nsamples)\n",
    "cycle_mean_price_annual_samples = np.zeros(shape=nsamples)\n",
    "\n",
    "for sample in range(nsamples):\n",
    "\n",
    "    days = 365\n",
    "    day_counter = 0 \n",
    "    carbon_total_millions_metric_tons = 300000000 # could randomize.  Need a probability distribution based on historial data. \n",
    "    total_tons_shipped = 0\n",
    "    total_price = 0\n",
    "    cycle_mean_price_daily_samples = np.zeros(shape=days)\n",
    "\n",
    "\n",
    "    #deduction = capacity of empty ships\n",
    "    for day in range(days):\n",
    "        if carbon_total_millions_metric_tons >= 0:\n",
    "            # must use apply to account for multiple 0 conditions.  If i simply vectorized the function across the dataframe in a single call i would assign the the same values each day \n",
    "            shipping_df['days_to_port'] = shipping_df['days_to_port'] - 1\n",
    "            shipping_df['us_port'] = shipping_df.apply(lambda x:  random_us_port() if x['days_to_port']<=0 else x['us_port'], axis=1)\n",
    "            shipping_df['europe_port'] = shipping_df.apply(lambda x:  random_europe_port() if x['days_to_port']<=0 else x['europe_port'], axis=1)\n",
    "            shipping_df['distance'] = shipping_df.apply(lambda x:  geo_distance(x['us_port'], x['europe_port']) if x['days_to_port']<=0 else x['distance'], axis=1)\n",
    "            shipping_df['price'] = shipping_df.apply(lambda x:  price_to_transport(x['distance'], x['co2_capacity_tonnes']) if x['days_to_port']<=0 else x['price'], axis=1)\n",
    "            # query all that are = o.  Summate the capacities deduct the total \n",
    "            tmp_df=shipping_df.loc[shipping_df['days_to_port'] == 0]\n",
    "            sum_of_capacity = tmp_df['co2_capacity_tonnes'].sum()\n",
    "            sum_of_price = tmp_df['price'].sum()\n",
    "            mean_of_price = tmp_df['price'].mean()\n",
    "            cycle_mean_price_daily_samples[day] = mean_of_price\n",
    "            shipping_df['days_to_port'] = shipping_df['days_to_port'].apply(lambda x: random_day() if x<=0 else x)\n",
    "            total_tons_shipped = total_tons_shipped + sum_of_capacity\n",
    "            total_price = total_price + sum_of_price\n",
    "            carbon_total_millions_metric_tons = carbon_total_millions_metric_tons - sum_of_capacity\n",
    "            #print(carbon_total_millions_metric_tons)\n",
    "            day_counter = day_counter+1\n",
    "        else: \n",
    "            break\n",
    "\n",
    "    #Drop the nan, ie empty samples\n",
    "    cycle_mean_price = cycle_mean_price_samples[np.logical_not(np.isnan(cycle_mean_price_samples))]\n",
    "    #Calculate mean price of filling a ship (around a billion according to the data i have if filled to capacity.  Ridiculous.)\n",
    "    cycle_mean_price = cycle_mean_price.mean()\n",
    "    cycle_mean_price_annual_samples[sample] =cycle_mean_price\n",
    "        \n",
    "    \n",
    "\n",
    "    price_samples[sample] = total_price\n",
    "\n",
    "        \n"
   ]
  },
  {
   "cell_type": "markdown",
   "metadata": {},
   "source": [
    "### Creating the Annual Price Samples DF"
   ]
  },
  {
   "cell_type": "code",
   "execution_count": 20,
   "metadata": {},
   "outputs": [],
   "source": [
    "annual_price_samples_df = pd.DataFrame(price_samples, columns=['cost_in_usd'])"
   ]
  },
  {
   "cell_type": "code",
   "execution_count": 21,
   "metadata": {},
   "outputs": [],
   "source": [
    "annual_price_samples_df['cost_in_usd'] = annual_price_samples_df.cost_in_usd\n"
   ]
  },
  {
   "cell_type": "markdown",
   "metadata": {},
   "source": [
    "### Creating the Mean Price Per Round Trip Df"
   ]
  },
  {
   "cell_type": "code",
   "execution_count": 22,
   "metadata": {},
   "outputs": [],
   "source": [
    "mean_price_per_cycle_df = pd.DataFrame(cycle_mean_price_annual_samples, columns=['Voyage Cost USD'])\n",
    "mean_price_per_cycle_df['Voyage Cost USD'] = mean_price_per_cycle_df['Voyage Cost USD'] \n"
   ]
  },
  {
   "cell_type": "markdown",
   "metadata": {},
   "source": [
    "## Imports"
   ]
  },
  {
   "cell_type": "code",
   "execution_count": 1,
   "metadata": {},
   "outputs": [
    {
     "name": "stderr",
     "output_type": "stream",
     "text": [
      "/Users/jnapolitano/venvs/finance/lib/python3.9/site-packages/geopandas/_compat.py:111: UserWarning: The Shapely GEOS version (3.10.2-CAPI-1.16.0) is incompatible with the GEOS version PyGEOS was compiled with (3.10.1-CAPI-1.16.0). Conversions between both will be slow.\n",
      "  warnings.warn(\n"
     ]
    }
   ],
   "source": [
    "import pandas as pd\n",
    "import matplotlib.pyplot as plt\n",
    "import geopandas as gpd\n",
    "import folium\n",
    "import contextily as cx\n",
    "import rtree\n",
    "from zlib import crc32\n",
    "import hashlib\n",
    "from shapely.geometry import Point, LineString, Polygon\n",
    "import numpy as np\n",
    "from scipy.spatial import cKDTree\n",
    "import scipy.stats as st\n",
    "from shapely.geometry import Point\n",
    "from haversine import Unit\n",
    "from geopy.distance import distance\n",
    "\n",
    "import warnings\n",
    "\n",
    "warnings.filterwarnings('ignore')\n"
   ]
  },
  {
   "cell_type": "code",
   "execution_count": null,
   "metadata": {},
   "outputs": [],
   "source": []
  }
 ],
 "metadata": {
  "kernelspec": {
   "display_name": "venv",
   "language": "python",
   "name": "venv"
  },
  "language_info": {
   "codemirror_mode": {
    "name": "ipython",
    "version": 3
   },
   "file_extension": ".py",
   "mimetype": "text/x-python",
   "name": "python",
   "nbconvert_exporter": "python",
   "pygments_lexer": "ipython3",
   "version": "3.9.12"
  },
  "orig_nbformat": 4
 },
 "nbformat": 4,
 "nbformat_minor": 2
}
